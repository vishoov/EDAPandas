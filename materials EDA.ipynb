{
  "nbformat": 4,
  "nbformat_minor": 0,
  "metadata": {
    "colab": {
      "private_outputs": true,
      "provenance": [],
      "gpuType": "T4"
    },
    "kernelspec": {
      "name": "python3",
      "display_name": "Python 3"
    },
    "language_info": {
      "name": "python"
    },
    "accelerator": "GPU"
  },
  "cells": [
    {
      "cell_type": "markdown",
      "source": [
        "# Data Cleaning"
      ],
      "metadata": {
        "id": "B0iC8JhFgBoJ"
      }
    },
    {
      "cell_type": "code",
      "execution_count": null,
      "metadata": {
        "id": "3LBjSjfgZ4gj"
      },
      "outputs": [],
      "source": [
        "import pandas as pd\n"
      ]
    },
    {
      "cell_type": "code",
      "source": [
        "print(df.columns.tolist())"
      ],
      "metadata": {
        "id": "reImgBeVaK4V"
      },
      "execution_count": null,
      "outputs": []
    },
    {
      "cell_type": "code",
      "source": [
        "print(df['material_id'].head())"
      ],
      "metadata": {
        "id": "ADSkj45Qau13"
      },
      "execution_count": null,
      "outputs": []
    },
    {
      "cell_type": "code",
      "source": [],
      "metadata": {
        "id": "mjKoDP_xby2I"
      },
      "execution_count": null,
      "outputs": []
    },
    {
      "cell_type": "code",
      "source": [
        "df['volume'] = df['volume'].str.replace('volume:', '')\n",
        "df.to_csv('modified_file1.csv', index=False)"
      ],
      "metadata": {
        "id": "A7c91Spgb0F-"
      },
      "execution_count": null,
      "outputs": []
    },
    {
      "cell_type": "code",
      "source": [
        "print(df)"
      ],
      "metadata": {
        "id": "w4Tuv3tmdLjx"
      },
      "execution_count": null,
      "outputs": []
    },
    {
      "cell_type": "code",
      "source": [
        "\n",
        "df = pd.read_csv('/content/modified_file1.csv')\n",
        "\n",
        "\n",
        "# df['nsites'] = df['nsites'].str.replace('{\"nsites\":', '')\n",
        "\n",
        "# # Save the modified DataFrame back to an Excel file\n",
        "# df.to_excel('modified_file1.xlsx', index=False)"
      ],
      "metadata": {
        "id": "-SyzxYbua_33"
      },
      "execution_count": null,
      "outputs": []
    },
    {
      "cell_type": "code",
      "source": [
        "print(df)"
      ],
      "metadata": {
        "id": "F1znwdqJbcST"
      },
      "execution_count": null,
      "outputs": []
    },
    {
      "cell_type": "code",
      "source": [
        "df['poscar'] = df['poscar'].str.replace('poscar:\"', '')"
      ],
      "metadata": {
        "id": "caZORM-6fH10"
      },
      "execution_count": null,
      "outputs": []
    },
    {
      "cell_type": "code",
      "source": [
        "print(df)"
      ],
      "metadata": {
        "id": "jbRlPw0pfQ1k"
      },
      "execution_count": null,
      "outputs": []
    },
    {
      "cell_type": "code",
      "source": [
        "df.to_csv('clean.csv', index=False)"
      ],
      "metadata": {
        "id": "T1YTc1EufRsz"
      },
      "execution_count": null,
      "outputs": []
    },
    {
      "cell_type": "markdown",
      "source": [
        "# Model Implementation"
      ],
      "metadata": {
        "id": "S2EDlbA8gMym"
      }
    },
    {
      "cell_type": "code",
      "source": [
        "import numpy as np\n",
        "\n",
        "import matplotlib.pyplot as plt\n",
        "import seaborn as sns\n",
        "import warnings\n",
        "warnings.filterwarnings('ignore')"
      ],
      "metadata": {
        "id": "zFvBvCTyf6RF"
      },
      "execution_count": null,
      "outputs": []
    },
    {
      "cell_type": "code",
      "source": [
        "df.head()"
      ],
      "metadata": {
        "id": "osvptUYMgWVL"
      },
      "execution_count": null,
      "outputs": []
    },
    {
      "cell_type": "code",
      "source": [
        "df.tail()"
      ],
      "metadata": {
        "id": "q1ctMcXxgZkJ"
      },
      "execution_count": null,
      "outputs": []
    },
    {
      "cell_type": "code",
      "source": [
        "print(\"Shape of the dataset : \",df.shape)"
      ],
      "metadata": {
        "id": "TD1tWQJRge8w"
      },
      "execution_count": null,
      "outputs": []
    },
    {
      "cell_type": "code",
      "source": [
        "df.isnull().sum()"
      ],
      "metadata": {
        "id": "XWffdQz7ghHr"
      },
      "execution_count": null,
      "outputs": []
    },
    {
      "cell_type": "code",
      "source": [
        "df.info()"
      ],
      "metadata": {
        "id": "u99cPmqygi9R"
      },
      "execution_count": null,
      "outputs": []
    },
    {
      "cell_type": "code",
      "source": [
        "df.duplicated().sum()"
      ],
      "metadata": {
        "id": "GASfG-yYglOw"
      },
      "execution_count": null,
      "outputs": []
    },
    {
      "cell_type": "code",
      "source": [
        "df.describe()"
      ],
      "metadata": {
        "id": "X_bSjDUBgoVt"
      },
      "execution_count": null,
      "outputs": []
    },
    {
      "cell_type": "markdown",
      "source": [
        "# Visualization"
      ],
      "metadata": {
        "id": "ZIIiJNn-gsyx"
      }
    },
    {
      "cell_type": "code",
      "source": [
        "sns.scatterplot(x = df['space_group'], y = df['volume'])\n",
        "plt.show"
      ],
      "metadata": {
        "id": "GoKGI9QgguNn"
      },
      "execution_count": null,
      "outputs": []
    },
    {
      "cell_type": "markdown",
      "source": [
        "# Grouping based on Space group"
      ],
      "metadata": {
        "id": "JacIPnDfhNgi"
      }
    },
    {
      "cell_type": "code",
      "source": [
        "df_space_group = df[df['space_group']!=0]"
      ],
      "metadata": {
        "id": "QvmjqnX4gp4M"
      },
      "execution_count": null,
      "outputs": []
    },
    {
      "cell_type": "code",
      "source": [
        "space_groups = df_space_group.groupby('space_group').sum()\n",
        "space_groups"
      ],
      "metadata": {
        "id": "tVoo1V2Lh2TZ"
      },
      "execution_count": null,
      "outputs": []
    },
    {
      "cell_type": "markdown",
      "source": [
        "# Model"
      ],
      "metadata": {
        "id": "KAKGjkdRivA5"
      }
    },
    {
      "cell_type": "code",
      "source": [
        "df1=df.copy()\n",
        "df1.head()"
      ],
      "metadata": {
        "id": "MftRPxrni1-f"
      },
      "execution_count": null,
      "outputs": []
    },
    {
      "cell_type": "code",
      "source": [
        "\n",
        "df1 = df1.drop(['material_id','poscar', 'structure', 'structure.1'], axis = 1)"
      ],
      "metadata": {
        "id": "OFJcqdYCjSFI"
      },
      "execution_count": null,
      "outputs": []
    },
    {
      "cell_type": "code",
      "source": [
        "df1.head()"
      ],
      "metadata": {
        "id": "EH8OYNbzje-4"
      },
      "execution_count": null,
      "outputs": []
    },
    {
      "cell_type": "code",
      "source": [
        "x = df1.drop(['piezoelectric_tensor', 'point_group', 'kpoint_density'], axis = 1)\n",
        "y = df1[['piezoelectric_tensor']]"
      ],
      "metadata": {
        "id": "fYeGyQ39iYvZ"
      },
      "execution_count": null,
      "outputs": []
    },
    {
      "cell_type": "code",
      "source": [
        "x.head()"
      ],
      "metadata": {
        "id": "bhHWfc5_iw-0"
      },
      "execution_count": null,
      "outputs": []
    },
    {
      "cell_type": "code",
      "source": [
        "y.head()"
      ],
      "metadata": {
        "id": "_xU5Xqvnj1q_"
      },
      "execution_count": null,
      "outputs": []
    },
    {
      "cell_type": "code",
      "source": [
        "from sklearn.model_selection import train_test_split\n",
        "x_train, x_test, y_train,y_test = train_test_split(x, y, test_size = 0.2, random_state = 42)"
      ],
      "metadata": {
        "id": "IhPBxX0yj3el"
      },
      "execution_count": null,
      "outputs": []
    },
    {
      "cell_type": "code",
      "source": [
        "x_train.shape, x_test.shape, y_train.shape,y_test.shape"
      ],
      "metadata": {
        "id": "JCpl5Xm6j6LZ"
      },
      "execution_count": null,
      "outputs": []
    },
    {
      "cell_type": "code",
      "source": [
        "plt.figure(figsize=(15,20))\n",
        "plt.subplot(4,2,1)\n",
        "sns.distplot(df['space_group'],bins = 20,color = 'red')\n",
        "plt.subplot(4,2,2)\n",
        "sns.distplot(df['space_group'],bins = 10,color = 'green')\n",
        "plt.subplot(4,2,3)\n",
        "sns.distplot(df['volume'],bins = 10,color = 'fuchsia')\n",
        "plt.subplot(4,2,4)\n",
        "sns.distplot(df['kpoint_density'],bins = 10, color = 'indigo')"
      ],
      "metadata": {
        "id": "KuYA4Ug9j7x7"
      },
      "execution_count": null,
      "outputs": []
    },
    {
      "cell_type": "code",
      "source": [
        "# Find the row containing the string value\n",
        "for i, row in x_train.iterrows():\n",
        "    if any(isinstance(value, str) for value in row):\n",
        "        print(f\"Row {i+1} contains a string value:\")\n",
        "        print(row)\n",
        "\n",
        "# Remove the row containing the string value\n",
        "x_train = x_train.drop(index=[i])\n",
        "\n",
        "# Alternatively, replace the string value with a valid float value\n",
        "x_train.loc[i, 'column_name'] = 1.0"
      ],
      "metadata": {
        "id": "pT2jiQe9lJx7"
      },
      "execution_count": null,
      "outputs": []
    },
    {
      "cell_type": "code",
      "source": [
        "from sklearn.linear_model import LinearRegression\n",
        "from sklearn.metrics import r2_score\n",
        "\n",
        "lr = LinearRegression()\n",
        "lr.fit(x_train,y_train)\n",
        "\n",
        "y_pred_train = lr.predict(x_train)\n",
        "print(\"Training Accuracy : \",r2_score(y_train,y_pred_train))\n",
        "\n",
        "y_pred_test = lr.predict(x_test)\n",
        "print(\"Test Accuracy : \",r2_score(y_test,y_pred_test))"
      ],
      "metadata": {
        "id": "kU2Xy3-xkD4E"
      },
      "execution_count": null,
      "outputs": []
    },
    {
      "cell_type": "markdown",
      "source": [
        "# Random Forest"
      ],
      "metadata": {
        "id": "l9oX3ryplY0I"
      }
    },
    {
      "cell_type": "code",
      "source": [
        "from sklearn.ensemble import RandomForestRegressor\n",
        "regr = RandomForestRegressor()\n",
        "\n",
        "regr.fit(x_train_transform1, y_train)\n",
        "\n",
        "y_pred_train_regr= regr.predict(x_train_transform1)\n",
        "y_pred_test_regr = regr.predict(x_test_transform1)\n",
        "\n",
        "print(\"Training Accuracy : \",r2_score(y_train, y_pred_train_regr))\n",
        "print(\"Test Accuracy : \",r2_score(y_test, y_pred_test_regr))\n",
        "\n",
        "train_accu.append(r2_score(y_train,y_pred_train_regr))\n",
        "test_accu.append(r2_score(y_test,y_pred_test_regr))"
      ],
      "metadata": {
        "id": "ycPpbg_skydU"
      },
      "execution_count": null,
      "outputs": []
    },
    {
      "cell_type": "code",
      "source": [
        "from sklearn.ensemble import RandomForestRegressor\n",
        "regr = RandomForestRegressor()\n",
        "\n",
        "\n",
        "regr.fit(x2, y_train)\n",
        "\n",
        "y_pred_train_regr= regr.predict(x2)\n",
        "y_pred_test_regr = regr.predict(x_test1)\n",
        "\n",
        "print(\"Training Accuracy : \",r2_score(y_train, y_pred_train_regr))\n",
        "print(\"Test Accuracy : \",r2_score(y_test, y_pred_test_regr))\n",
        "\n",
        "train_accu.append(r2_score(y_train,y_pred_train_regr))\n",
        "test_accu.append(r2_score(y_test,y_pred_test_regr))"
      ],
      "metadata": {
        "id": "-YmsrhQ2lXER"
      },
      "execution_count": null,
      "outputs": []
    },
    {
      "cell_type": "markdown",
      "source": [
        "# SVM Regressor"
      ],
      "metadata": {
        "id": "0iXBCImZlak7"
      }
    },
    {
      "cell_type": "code",
      "source": [
        "from sklearn.svm import SVR\n",
        "svr = SVR()\n",
        "svr.fit(x_train_transform1, y_train)\n",
        "\n",
        "y_pred_train_svr= svr.predict(x_train_transform1)\n",
        "y_pred_test_svr = svr.predict(x_test_transform1)\n",
        "\n",
        "print(\"Training Accuracy : \",r2_score(y_train, y_pred_train_svr))\n",
        "print(\"Test Accuracy : \",r2_score(y_test, y_pred_test_svr))\n",
        "\n",
        "train_accu.append(r2_score(y_train,y_pred_train_svr))\n",
        "test_accu.append(r2_score(y_test,y_pred_test_svr))"
      ],
      "metadata": {
        "id": "h1MkDyE_le1M"
      },
      "execution_count": null,
      "outputs": []
    },
    {
      "cell_type": "code",
      "source": [
        "from sklearn.svm import SVR\n",
        "svr = SVR()\n",
        "svr.fit(x2, y_train)\n",
        "\n",
        "y_pred_train_svr= svr.predict(x2)\n",
        "y_pred_test_svr = svr.predict(x_test1)\n",
        "\n",
        "print(\"Training Accuracy : \",r2_score(y_train, y_pred_train_svr))\n",
        "print(\"Test Accuracy : \",r2_score(y_test, y_pred_test_svr))\n",
        "\n",
        "train_accu.append(r2_score(y_train,y_pred_train_svr))\n",
        "test_accu.append(r2_score(y_test,y_pred_test_svr))"
      ],
      "metadata": {
        "id": "_XfbfSNulh0e"
      },
      "execution_count": null,
      "outputs": []
    },
    {
      "cell_type": "code",
      "source": [],
      "metadata": {
        "id": "oO9Y4cP-liIi"
      },
      "execution_count": null,
      "outputs": []
    },
    {
      "cell_type": "markdown",
      "source": [
        "# CatBoost Regressor"
      ],
      "metadata": {
        "id": "yWLZyrRjlloL"
      }
    },
    {
      "cell_type": "code",
      "source": [
        "from catboost import CatBoostRegressor\n",
        "cat = CatBoostRegressor(learning_rate=0.15)\n",
        "cat.fit(x_train_transform1, y_train)\n",
        "\n",
        "y_pred_train_cat = cat.predict(x_train_transform1)\n",
        "y_pred_test_cat = cat.predict(x_test_transform1)\n",
        "\n",
        "print(\"Training Accuracy : \",r2_score(y_train, y_pred_train_cat))\n",
        "print()\n",
        "print(\"Test Accuracy : \",r2_score(y_test, y_pred_test_cat))\n",
        "\n",
        "train_accu.append(r2_score(y_train,y_pred_train_cat))\n",
        "test_accu.append(r2_score(y_test,y_pred_test_cat))"
      ],
      "metadata": {
        "id": "qwGBwTpIloVZ"
      },
      "execution_count": null,
      "outputs": []
    },
    {
      "cell_type": "code",
      "source": [
        "from catboost import CatBoostRegressor\n",
        "cat = CatBoostRegressor(learning_rate=0.15)\n",
        "cat.fit(x2, y_train)\n",
        "\n",
        "y_pred_train_cat = cat.predict(x2)\n",
        "y_pred_test_cat = cat.predict(x_test1)\n",
        "\n",
        "print(\"Training Accuracy : \",r2_score(y_train, y_pred_train_cat))\n",
        "print()\n",
        "print(\"Test Accuracy : \",r2_score(y_test, y_pred_test_cat))\n",
        "\n",
        "train_accu.append(r2_score(y_train,y_pred_train_cat))\n",
        "test_accu.append(r2_score(y_test,y_pred_test_cat))"
      ],
      "metadata": {
        "id": "_TVI8cJGlr1B"
      },
      "execution_count": null,
      "outputs": []
    }
  ]
}