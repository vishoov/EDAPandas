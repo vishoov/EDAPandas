{
  "nbformat": 4,
  "nbformat_minor": 0,
  "metadata": {
    "colab": {
      "private_outputs": true,
      "provenance": [],
      "gpuType": "T4"
    },
    "kernelspec": {
      "name": "python3",
      "display_name": "Python 3"
    },
    "language_info": {
      "name": "python"
    },
    "accelerator": "GPU"
  },
  "cells": [
    {
      "cell_type": "code",
      "source": [
        "%reset"
      ],
      "metadata": {
        "id": "VRzOGceQuZUf"
      },
      "execution_count": null,
      "outputs": []
    },
    {
      "cell_type": "code",
      "source": [
        "\n",
        "!pip install mp-api"
      ],
      "metadata": {
        "id": "-RbWtXwQNXBF"
      },
      "execution_count": null,
      "outputs": []
    },
    {
      "cell_type": "code",
      "source": [],
      "metadata": {
        "id": "3_x0YER1uHtE"
      },
      "execution_count": null,
      "outputs": []
    },
    {
      "cell_type": "code",
      "source": [
        "!pip install pymatgen --upgrade"
      ],
      "metadata": {
        "id": "N6XNwL6cNbvW"
      },
      "execution_count": null,
      "outputs": []
    },
    {
      "cell_type": "code",
      "source": [
        "import os\n",
        "from pymatgen.ext.matproj import MPRester\n"
      ],
      "metadata": {
        "id": "_XgfRNfYU2_Z"
      },
      "execution_count": null,
      "outputs": []
    },
    {
      "cell_type": "code",
      "source": [
        "MP_API_KEY=\"HZN5xIwmd5lePULbgdSDJLLHqMHn4zav\"\n",
        "print(MP_API_KEY)\n",
        "mpr = MPRester(api_key=MP_API_KEY)"
      ],
      "metadata": {
        "id": "n7IXFw6eMhi9"
      },
      "execution_count": null,
      "outputs": []
    },
    {
      "cell_type": "code",
      "source": [
        "query = {'piezo': {'$exists': True}, 'band_gap': {'$gt': 2.0}}\n",
        "fields = ['material_id']"
      ],
      "metadata": {
        "id": "EhlsI76FvWKY"
      },
      "execution_count": null,
      "outputs": []
    },
    {
      "cell_type": "code",
      "source": [
        "with MPRester(MP_API_KEY) as mpr:\n",
        "    results = mpr.query(chemsys_formula='**O3', fields=[\"material_id\"])\n",
        "    data_list = [(result.material_id, result.formula_pretty) for result in results]"
      ],
      "metadata": {
        "id": "XNcdn8J5PkJ1"
      },
      "execution_count": null,
      "outputs": []
    },
    {
      "cell_type": "code",
      "source": [
        "data=mpr.query({'piezo':{'$exists':True}}, ['formula'])"
      ],
      "metadata": {
        "id": "Q9f57juBcdIV"
      },
      "execution_count": null,
      "outputs": []
    },
    {
      "cell_type": "code",
      "source": [
        "print(data[100])"
      ],
      "metadata": {
        "id": "PxJOAf23bm4A"
      },
      "execution_count": null,
      "outputs": []
    },
    {
      "cell_type": "code",
      "source": [
        "import pandas as pd\n",
        "from mp_api.client import MPRester\n",
        "\n",
        "# Your Materials Project API key\n",
        "API_KEY = MP_API_KEY\n",
        "\n",
        "# Path to your CSV file\n",
        "csv_file = \"/content/piezo_materials (1).csv\"\n",
        "\n",
        "# Create an MPRester instance\n",
        "mpr = MPRester(API_KEY)\n",
        "\n",
        "# Read the CSV file into a DataFrame\n",
        "df = pd.read_csv(csv_file)\n",
        "\n",
        "# Define a function to fetch formula from material ID\n",
        "def get_formula(material_id):\n",
        "    try:\n",
        "        data = mpr.get_data(material_id=material_id)\n",
        "        return data[\"formula_pretty\"]\n",
        "    except Exception as e:\n",
        "        print(f\"Error fetching data for {material_id}: {e}\")\n",
        "        return None\n",
        "\n",
        "# Apply the function to add a new column with chemical formulae\n",
        "df[\"formula\"] = df[\"material_id\"].apply(get_formula)\n",
        "\n",
        "# Save the updated DataFrame to a new CSV file\n",
        "df.to_csv(\"updated_data.csv\", index=False)\n"
      ],
      "metadata": {
        "id": "lb3h4dse7Qcb"
      },
      "execution_count": null,
      "outputs": []
    },
    {
      "cell_type": "code",
      "source": [
        "from mp_api.client import MPRester\n",
        "from emmet.core.electronic_structure import BSPathType\n",
        "\n",
        "with MPRester(API_KEY) as mpr:\n",
        "    # -- line-mode, Setyawan-Curtarolo (default):\n",
        "    bs_sc = mpr.get_bandstructure_by_material_id(\"mp-149\")\n",
        "\n",
        "    # -- line-mode, Hinuma et al.:\n",
        "    bs_hin = mpr.get_bandstructure_by_material_id(\"mp-149\", path_type=BSPathType.hinuma)\n",
        "\n",
        "    # -- line-mode, Latimer-Munro:\n",
        "    bs_hin = mpr.get_bandstructure_by_material_id(\"mp-149\", path_type=BSPathType.latimer_munro)\n",
        "\n",
        "    # -- uniform:\n",
        "    bs_uniform = mpr.get_bandstructure_by_material_id(\"mp-149\", line_mode=False)"
      ],
      "metadata": {
        "id": "AFlXYZ9fWC5Q"
      },
      "execution_count": null,
      "outputs": []
    },
    {
      "cell_type": "code",
      "source": [
        "print(bs_uniform)"
      ],
      "metadata": {
        "id": "zZNvL1yVQoHA"
      },
      "execution_count": null,
      "outputs": []
    },
    {
      "cell_type": "code",
      "source": [
        "!pip install requests"
      ],
      "metadata": {
        "id": "ZBw4IsDGROh_"
      },
      "execution_count": null,
      "outputs": []
    },
    {
      "cell_type": "code",
      "source": [
        "with open(\"piezo_materials.csv\", \"w\", newline=\"\") as csvfile:\n",
        "    fieldnames = [\"material_id\", \"eij_max\", \"piezoelectric_tensor\", \"v_max\"]\n",
        "    writer = csv.DictWriter(csvfile, fieldnames=fieldnames)\n",
        "    writer.writeheader()\n",
        "\n",
        "    # Write each material's data to the CSV file\n",
        "    for material in data:\n",
        "        tensor_list = [item for sublist in material[\"piezo\"][\"piezoelectric_tensor\"] for item in sublist]\n",
        "        row = {\n",
        "            \"material_id\": material[\"material_id\"],\n",
        "            \"eij_max\": material[\"piezo\"][\"eij_max\"],\n",
        "            \"piezoelectric_tensor\": \",\".join(str(element) for element in tensor_list)\n",
        "        }\n",
        "        writer.writerow(row)\n",
        "\n",
        "print(\"Piezoelectric materials data saved to piezo_materials.csv\")"
      ],
      "metadata": {
        "id": "JS4HhBwLQwYr"
      },
      "execution_count": null,
      "outputs": []
    },
    {
      "cell_type": "code",
      "source": [
        "import requests\n",
        "import json\n",
        "\n",
        "# Define the URL\n",
        "url = \"https://materialsproject.org/rest/v2/materials/all/vasp\"\n",
        "\n",
        "# Define the headers\n",
        "headers = {\n",
        "    'X-API-KEY': 'z0C8jhBGPYyqxsQAlNRGTC2YGrnHhZ6b',\n",
        "}\n",
        "\n",
        "# Define the parameters\n",
        "params = {\n",
        "    'prop': 'piezo'  # Fetch calculated piezoelectric properties\n",
        "}\n",
        "\n",
        "# Send the request\n",
        "response = requests.get(url, headers=headers, params=params)\n",
        "\n",
        "# Check the status of the request\n",
        "if response.status_code == 200:\n",
        "    # Load the data from the response\n",
        "    data = json.loads(response.text)\n",
        "\n",
        "    # Print the data\n",
        "    print(json.dumps(data, indent=4))\n",
        "else:\n",
        "    print(f\"Request failed with status code {response.status_code}\")\n",
        "\n"
      ],
      "metadata": {
        "id": "bv1ikJZURKUA"
      },
      "execution_count": null,
      "outputs": []
    },
    {
      "cell_type": "code",
      "source": [
        "print(data[0].keys())"
      ],
      "metadata": {
        "id": "7yTLY7WpS-TX"
      },
      "execution_count": null,
      "outputs": []
    },
    {
      "cell_type": "markdown",
      "source": [],
      "metadata": {
        "id": "kt1hT7d9WW1W"
      }
    }
  ]
}